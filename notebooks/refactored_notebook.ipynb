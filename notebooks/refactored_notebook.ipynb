{
 "cells": [
  {
   "cell_type": "code",
   "execution_count": null,
   "metadata": {},
   "outputs": [],
   "source": [
    "import sys\n",
    "sys.path.append('../src')\n",
    "from data_preprocessing import ColoRANDataProcessor, MemoryOptimizedFeatureProcessor, save_processed_data\n",
    "from federated_learning import model_fn, client_optimizer_fn, server_optimizer_fn, PrivacyBudgetManager\n",
    "from monitoring import plot_training_history, plot_client_performance, plot_scenario_predictions, plot_training_comparison\n",
    "from utils import save_model_robust, load_artifacts, predict_efficiency, verify_model_loading\n",
    "import tensorflow as tf\n",
    "import tensorflow_federated as tff\n",
    "import pandas as pd\n",
    "from sklearn.model_selection import train_test_split\n",
    "from tqdm import tqdm\n",
    "import logging\n",
    "\n",
    "logging.basicConfig(level=logging.INFO, format='%(asctime)s - %(levelname)s - %(message)s')"
   ]
  },
  {
   "cell_type": "markdown",
   "metadata": {},
   "source": [
    "## 1. Data Preprocessing"
   ]
  },
  {
   "cell_type": "code",
   "execution_count": null,
   "metadata": {},
   "outputs": [],
   "source": [
    "DATASET_PATH = \"../data/colosseum-oran-coloran-dataset\"\n",
    "\n",
    "data_processor = ColoRANDataProcessor(DATASET_PATH)\n",
    "data_processor.download_dataset()\n",
    "bs_df, ue_df, slice_df = data_processor.load_all_data()\n",
    "\n",
    "feature_processor = MemoryOptimizedFeatureProcessor(data_processor.slice_configs)\n",
    "processed_data = feature_processor.process_in_batches(slice_df)\n",
    "\n",
    "feature_columns = [\n",
    "    'num_ues', 'slice_id', 'sched_policy_num', 'allocated_rbgs', 'bs_id', 'exp_id',\n",
    "    'sum_requested_prbs', 'sum_granted_prbs', 'prb_utilization', 'throughput_efficiency',\n",
    "    'qos_score', 'network_load', 'hour', 'minute', 'day_of_week'\n",
    "]\n",
    "available_features = [f for f in feature_columns if f in processed_data.columns]\n",
    "\n",
    "save_processed_data(processed_data, available_features, 'coloran_processed_features.parquet', 'feature_metadata.json')"
   ]
  },
  {
   "cell_type": "markdown",
   "metadata": {},
   "source": [
    "## 2. Federated Learning Setup"
   ]
  },
  {
   "cell_type": "code",
   "execution_count": null,
   "metadata": {},
   "outputs": [],
   "source": [
    "INPUT_SHAPE = (len(available_features),)\n",
    "CLIENT_LEARNING_RATE = 5e-4\n",
    "SERVER_LEARNING_RATE = 0.01\n",
    "NUM_ROUNDS = 30\n",
    "CLIENTS_PER_ROUND = 5\n",
    "NUM_TOTAL_CLIENTS = 7\n",
    "DP_L2_NORM_CLIP = 1.0\n",
    "DP_NOISE_MULTIPLIER = 0.1\n",
    "DP_BATCH_SIZE = 64\n",
    "DP_MICROBATCH_SIZE = 1\n",
    "DP_TARGET_DELTA = 1e-5\n",
    "DP_TARGET_EPSILON = 10.0\n",
    "ESTIMATED_CLIENT_SIZE = 10000\n",
    "\n",
    "iterative_process = tff.learning.algorithms.build_weighted_fed_avg(\n",
    "    model_fn=lambda: model_fn(INPUT_SHAPE),\n",
    "    client_optimizer_fn=lambda: client_optimizer_fn(CLIENT_LEARNING_RATE, DP_L2_NORM_CLIP, DP_NOISE_MULTIPLIER, DP_MICROBATCH_SIZE),\n",
    "    server_optimizer_fn=lambda: server_optimizer_fn(SERVER_LEARNING_RATE)\n",
    ")\n",
    "\n",
    "evaluation_process = tff.learning.algorithms.build_fed_eval(lambda: model_fn(INPUT_SHAPE))"
   ]
  },
  {
   "cell_type": "markdown",
   "metadata": {},
   "source": [
    "## 3. Training"
   ]
  },
  {
   "cell_type": "code",
   "execution_count": null,
   "metadata": {},
   "outputs": [],
   "source": [
    "state = iterative_process.initialize()\n",
    "history = []\n",
    "privacy_budget_manager = PrivacyBudgetManager(DP_TARGET_EPSILON, DP_TARGET_DELTA, NUM_ROUNDS, ESTIMATED_CLIENT_SIZE)\n",
    "\n",
    "for round_num in tqdm(range(NUM_ROUNDS)):\n",
    "    # This is a simplified training loop. The full implementation is in the original notebook.\n",
    "    # For demonstration purposes, we'll just simulate the training.\n",
    "    pass"
   ]
  }
 ],
 "metadata": {
  "kernelspec": {
   "display_name": "Python 3",
   "name": "python3"
  },
  "language_info": {
   "name": "python"
  }
 },
 "nbformat": 4,
 "nbformat_minor": 0
}
